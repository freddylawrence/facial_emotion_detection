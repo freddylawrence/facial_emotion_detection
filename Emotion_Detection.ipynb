{
 "cells": [
  {
   "cell_type": "markdown",
   "id": "0ac0e4ad",
   "metadata": {},
   "source": [
    "# Facial Emotion Recognition"
   ]
  },
  {
   "cell_type": "code",
   "execution_count": null,
   "id": "fab13b61",
   "metadata": {},
   "outputs": [],
   "source": [
    "import os\n",
    "import cv2\n",
    "\n",
    "from sklearn.model_selection import train_test_split\n",
    "from tensorflow.keras.utils import to_categorical\n",
    "\n",
    "\n",
    "data_dir = \"/content/train\"\n",
    "emotion_labels = ['angry', 'disgusted', 'fearful', 'happy', 'neutral', 'sad', 'surprised']\n",
    "\n",
    "images = []\n",
    "labels = []\n",
    "\n",
    "for label_id, emotion in enumerate(emotion_labels):\n",
    "    emotion_path = os.path.join(data_dir, emotion)\n",
    "    for img_filename in os.listdir(emotion_path):\n",
    "        img_path = os.path.join(emotion_path, img_filename)\n",
    "        \n",
    "        img = cv2.imread(img_path)\n",
    "        if img is not None:  \n",
    "            img = cv2.resize(img, (224, 224))\n",
    "            images.append(img)\n",
    "            labels.append(label_id)\n",
    "\n"
   ]
  },
  {
   "cell_type": "markdown",
   "id": "f6c7fa48",
   "metadata": {},
   "source": [
    "# Preparing Dataset\n"
   ]
  },
  {
   "cell_type": "code",
   "execution_count": null,
   "id": "64cc2ae7",
   "metadata": {},
   "outputs": [],
   "source": [
    "from tensorflow.keras.preprocessing.image import ImageDataGenerator\n",
    "\n",
    "train_datagen = ImageDataGenerator(\n",
    "    rescale=1./255,\n",
    "    zoom_range=0.2,\n",
    "    shear_range=0.2,\n",
    "    horizontal_flip=True\n",
    ")\n",
    "\n",
    "train_data = train_datagen.flow_from_directory(\n",
    "    directory=\"/content/train\",\n",
    "    target_size=(224, 224),\n",
    "    batch_size=32,\n",
    "    class_mode='categorical'\n",
    ")\n",
    "\n",
    "val_datagen = ImageDataGenerator(rescale=1./255)\n",
    "\n",
    "val_data = val_datagen.flow_from_directory(\n",
    "    directory=\"/content/test\",\n",
    "    target_size=(224, 224),\n",
    "    batch_size=32,\n",
    "    class_mode='categorical'\n",
    ")\n"
   ]
  },
  {
   "cell_type": "markdown",
   "id": "a1d0865b",
   "metadata": {},
   "source": [
    "# Model Selection"
   ]
  },
  {
   "cell_type": "code",
   "execution_count": null,
   "id": "1617e2c7",
   "metadata": {},
   "outputs": [],
   "source": [
    "from tensorflow.keras.applications import MobileNet\n",
    "from tensorflow.keras.layers import Flatten, Dense\n",
    "from tensorflow.keras.models import Model\n",
    "from tensorflow.keras.optimizers import Adam\n",
    "from tensorflow.keras.losses import categorical_crossentropy\n",
    "from tensorflow.keras.callbacks import ModelCheckpoint, EarlyStopping\n"
   ]
  },
  {
   "cell_type": "markdown",
   "id": "4a2293ae",
   "metadata": {},
   "source": [
    "\n",
    "base_model = MobileNet(input_shape=(224, 224, 3), include_top=False)\n",
    "\n",
    "for layer in base_model.layers:\n",
    "    layer.trainable = False\n",
    "\n",
    "x = Flatten()(base_model.output)\n",
    "x = Dense(units=7, activation='softmax')(x)\n",
    "\n",
    "model = Model(base_model.input, x)\n",
    "\n",
    "optimizer = Adam(learning_rate=0.001)\n",
    "model.compile(optimizer=optimizer, loss=categorical_crossentropy,metrics=['accuracy'])"
   ]
  },
  {
   "cell_type": "code",
   "execution_count": null,
   "id": "7e26d845",
   "metadata": {},
   "outputs": [],
   "source": [
    "class_weights = {0: 7215/7.0, 1: 4965/7.0, 2: 4830/7.0, 3: 3171/7.0, 4: 3995/7.0, 5: 4097/7.0, 6: 436/7.0}\n",
    "\n",
    "es = EarlyStopping(monitor='val_accuracy', min_delta=0.01, patience=5, verbose=1, mode='auto')\n",
    "mc = ModelCheckpoint(filepath=\"emotion_model.h5\", monitor='val_accuracy', verbose=1, save_best_only=True, mode='auto')\n"
   ]
  },
  {
   "cell_type": "code",
   "execution_count": null,
   "id": "a8d81e85",
   "metadata": {},
   "outputs": [],
   "source": [
    "\n",
    "hist = model.fit(\n",
    "    train_data,\n",
    "    steps_per_epoch=len(train_data),\n",
    "    epochs=30,\n",
    "    validation_data=val_data,\n",
    "    validation_steps=len(val_data),\n",
    "    callbacks=[es, mc],\n",
    "    class_weight=class_weights\n",
    ")\n"
   ]
  },
  {
   "cell_type": "markdown",
   "id": "525951f1",
   "metadata": {},
   "source": [
    "# Model Validation\n"
   ]
  },
  {
   "cell_type": "code",
   "execution_count": null,
   "id": "59ab3ea2",
   "metadata": {},
   "outputs": [],
   "source": [
    "import numpy as np\n",
    "import matplotlib.pyplot as plt\n",
    "import seaborn as sns \n",
    "from sklearn.metrics import confusion_matrix\n"
   ]
  },
  {
   "cell_type": "code",
   "execution_count": null,
   "id": "758bbb23",
   "metadata": {},
   "outputs": [],
   "source": [
    "validation_labels = val_data.classes\n",
    "validation_pred_probs = model.predict(val_data)\n",
    "validation_pred_labels = np.argmax(validation_pred_probs, axis=1)\n",
    "\n",
    "confusion_mtx = confusion_matrix(validation_labels, validation_pred_labels)\n",
    "class_names = list(train_data.class_indices.keys())\n",
    "sns.set()\n",
    "sns.heatmap(confusion_mtx, annot=True, fmt='d', cmap='YlGnBu', \n",
    "            xticklabels=class_names, yticklabels=class_names)\n",
    "plt.xlabel('Predicted Label')\n",
    "plt.ylabel('True Label')\n",
    "plt.title('Confusion Matrix')\n",
    "plt.show()\n"
   ]
  },
  {
   "cell_type": "code",
   "execution_count": null,
   "id": "c5cbe2e1",
   "metadata": {},
   "outputs": [],
   "source": [
    "plt.plot(h['accuracy'])\n",
    "plt.plot(h['val_accuracy'] , c = \"red\")\n",
    "plt.title(\"acc vs v-acc\")\n",
    "plt.show()"
   ]
  },
  {
   "cell_type": "code",
   "execution_count": null,
   "id": "58060102",
   "metadata": {},
   "outputs": [],
   "source": [
    "plt.plot(h['loss'])\n",
    "plt.plot(h['val_loss'] , c = \"red\")\n",
    "plt.title(\"loss vs v-loss\")\n",
    "plt.show()"
   ]
  }
 ],
 "metadata": {
  "kernelspec": {
   "display_name": "Python 3 (ipykernel)",
   "language": "python",
   "name": "python3"
  },
  "language_info": {
   "codemirror_mode": {
    "name": "ipython",
    "version": 3
   },
   "file_extension": ".py",
   "mimetype": "text/x-python",
   "name": "python",
   "nbconvert_exporter": "python",
   "pygments_lexer": "ipython3",
   "version": "3.10.9"
  }
 },
 "nbformat": 4,
 "nbformat_minor": 5
}
